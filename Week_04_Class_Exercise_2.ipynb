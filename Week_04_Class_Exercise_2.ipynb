{
  "nbformat": 4,
  "nbformat_minor": 0,
  "metadata": {
    "colab": {
      "name": "Week 04 Class - Exercise 2.ipynb",
      "provenance": [],
      "collapsed_sections": [],
      "include_colab_link": true
    },
    "kernelspec": {
      "name": "python3",
      "display_name": "Python 3"
    }
  },
  "cells": [
    {
      "cell_type": "markdown",
      "metadata": {
        "id": "view-in-github",
        "colab_type": "text"
      },
      "source": [
        "<a href=\"https://colab.research.google.com/github/zeitgeist-hash/GV918-Week04/blob/main/Week_04_Class_Exercise_2.ipynb\" target=\"_parent\"><img src=\"https://colab.research.google.com/assets/colab-badge.svg\" alt=\"Open In Colab\"/></a>"
      ]
    },
    {
      "cell_type": "markdown",
      "metadata": {
        "id": "zYZzWQ0GG1t1"
      },
      "source": [
        "# Description\n",
        "\n",
        "In this exercise, we will continue the analysis of UK Political Data, which I presented in the lecture. We have already conducted merging Election and Brexit referendum data. We will work with additional datasets, coming from: \n",
        "\n",
        "https://commonslibrary.parliament.uk/constituency-dashboard/\n",
        "\n",
        "In particular, we will use the following data:\n",
        "\n",
        "- Population\n",
        "- Unemployment\n",
        "- Housing price"
      ]
    },
    {
      "cell_type": "markdown",
      "metadata": {
        "id": "yDSMvqBtf1p8"
      },
      "source": [
        "# Clone a data repository\n",
        "\n",
        "As we will use the data for several weeks, I decided to create a separate repository for the data. We can clone the reposiotory to Colab working directory to start working on the data."
      ]
    },
    {
      "cell_type": "code",
      "metadata": {
        "id": "VPyuaghcgKI4",
        "outputId": "b95cb010-9294-4c13-b927-adaa64a34540",
        "colab": {
          "base_uri": "https://localhost:8080/",
          "height": 122
        }
      },
      "source": [
        "!git clone  https://github.com/University-of-Essex-Dept-of-Government/GV918-UK-politics-data"
      ],
      "execution_count": 1,
      "outputs": [
        {
          "output_type": "stream",
          "text": [
            "Cloning into 'GV918-UK-politics-data'...\n",
            "remote: Enumerating objects: 12, done.\u001b[K\n",
            "remote: Counting objects: 100% (12/12), done.\u001b[K\n",
            "remote: Compressing objects: 100% (11/11), done.\u001b[K\n",
            "remote: Total 12 (delta 0), reused 0 (delta 0), pack-reused 0\u001b[K\n",
            "Unpacking objects: 100% (12/12), done.\n"
          ],
          "name": "stdout"
        }
      ]
    },
    {
      "cell_type": "code",
      "metadata": {
        "id": "QtyUj54-pZos",
        "outputId": "c73c386f-556f-40b5-a6fd-fbdc6fe45490",
        "colab": {
          "base_uri": "https://localhost:8080/",
          "height": 34
        }
      },
      "source": [
        "from google.colab import drive\n",
        "drive.mount('/content/drive')"
      ],
      "execution_count": 2,
      "outputs": [
        {
          "output_type": "stream",
          "text": [
            "Mounted at /content/drive\n"
          ],
          "name": "stdout"
        }
      ]
    },
    {
      "cell_type": "markdown",
      "metadata": {
        "id": "UxZZK0qlH2nA"
      },
      "source": [
        "## Rerun the code in the lecture"
      ]
    },
    {
      "cell_type": "code",
      "metadata": {
        "id": "BNnah5uCH2PQ"
      },
      "source": [
        "import pandas as pd\n",
        "import numpy as np\n"
      ],
      "execution_count": 3,
      "outputs": []
    },
    {
      "cell_type": "code",
      "metadata": {
        "id": "xK3OoYQjI5eB"
      },
      "source": [
        "\n",
        "df_elec = pd.read_excel(\"/content/GV918-UK-politics-data/Data/general-election-results-2019.xlsx\", sheet_name = 'voting-summary')\n",
        "\n",
        "df_brexit = pd.read_csv(\"/content/GV918-UK-politics-data/Data/brexit-vote.csv\")\n",
        "\n",
        "df_brexit.rename({'PCON11CD':'ons_id'}, axis = 1, inplace=True)\n",
        "\n",
        "\"\"\"## Select columns\"\"\"\n",
        "\n",
        "df_brexit.rename({'Figure to use':'leave_pct'}, axis = 1, inplace=True)\n",
        "\n",
        "df_brexit_sub = df_brexit[['ons_id', 'leave_pct']]\n",
        "\n",
        "df_elec['con_pct'] = df_elec['con'] / df_elec['valid_votes']\n",
        "df_elec['lab_pct'] = df_elec['lab'] / df_elec['valid_votes']\n",
        "\n",
        "df_elec.head()\n",
        "\n",
        "\"\"\"## Merge\"\"\"\n",
        "# use \"left\" merge\n",
        "\n",
        "df_merge = df_elec.merge(df_brexit_sub, how='left', on = \"ons_id\")\n"
      ],
      "execution_count": 4,
      "outputs": []
    },
    {
      "cell_type": "code",
      "metadata": {
        "id": "tAK_r9gyqQGt",
        "outputId": "9b9acffc-0e4b-44a7-9281-aced9fe69b01",
        "colab": {
          "base_uri": "https://localhost:8080/",
          "height": 34
        }
      },
      "source": [
        "df_merge.shape"
      ],
      "execution_count": 5,
      "outputs": [
        {
          "output_type": "execute_result",
          "data": {
            "text/plain": [
              "(650, 42)"
            ]
          },
          "metadata": {
            "tags": []
          },
          "execution_count": 5
        }
      ]
    },
    {
      "cell_type": "markdown",
      "metadata": {
        "id": "hZ4584uuKTOo"
      },
      "source": [
        "# Unemployment\n",
        "\n",
        "What we want to get from this file is the unemployment rate (or rate of unemployment claims) in November 2019, right before the election. "
      ]
    },
    {
      "cell_type": "markdown",
      "metadata": {
        "id": "KHJSJPqIKWKd"
      },
      "source": [
        "## Read the file"
      ]
    },
    {
      "cell_type": "code",
      "metadata": {
        "id": "3LptEE8nKaod"
      },
      "source": [
        "df_unemp = pd.read_excel('/content/GV918-UK-politics-data/Data/Unemployment.xlsx', sheet_name = \"Data\")"
      ],
      "execution_count": 6,
      "outputs": []
    },
    {
      "cell_type": "code",
      "metadata": {
        "id": "ZFx2D7F5unmm",
        "outputId": "786131f5-8b8b-4e61-d69d-d55cb06a0d30",
        "colab": {
          "base_uri": "https://localhost:8080/",
          "height": 258
        }
      },
      "source": [
        "df_unemp.head()"
      ],
      "execution_count": 7,
      "outputs": [
        {
          "output_type": "execute_result",
          "data": {
            "text/html": [
              "<div>\n",
              "<style scoped>\n",
              "    .dataframe tbody tr th:only-of-type {\n",
              "        vertical-align: middle;\n",
              "    }\n",
              "\n",
              "    .dataframe tbody tr th {\n",
              "        vertical-align: top;\n",
              "    }\n",
              "\n",
              "    .dataframe thead th {\n",
              "        text-align: right;\n",
              "    }\n",
              "</style>\n",
              "<table border=\"1\" class=\"dataframe\">\n",
              "  <thead>\n",
              "    <tr style=\"text-align: right;\">\n",
              "      <th></th>\n",
              "      <th>ONSConstID</th>\n",
              "      <th>ConstituencyName</th>\n",
              "      <th>RegionID</th>\n",
              "      <th>RegionName</th>\n",
              "      <th>CountryID</th>\n",
              "      <th>CountryName</th>\n",
              "      <th>DateThisUpdate</th>\n",
              "      <th>DateOfDataset</th>\n",
              "      <th>UnempConstNumber</th>\n",
              "      <th>UnempConstRate</th>\n",
              "      <th>UnempRegionNumber</th>\n",
              "      <th>UnempRegionRate</th>\n",
              "      <th>UnempCountryNumber</th>\n",
              "      <th>UnempCountryRate</th>\n",
              "      <th>Unnamed: 14</th>\n",
              "    </tr>\n",
              "  </thead>\n",
              "  <tbody>\n",
              "    <tr>\n",
              "      <th>0</th>\n",
              "      <td>E14000554</td>\n",
              "      <td>Berwick-upon-Tweed</td>\n",
              "      <td>E15000001</td>\n",
              "      <td>North East</td>\n",
              "      <td>K02000001</td>\n",
              "      <td>UK</td>\n",
              "      <td>2020-10-13</td>\n",
              "      <td>2010-05-01</td>\n",
              "      <td>1216</td>\n",
              "      <td>0.025744</td>\n",
              "      <td>80105</td>\n",
              "      <td>0.04769</td>\n",
              "      <td>1502155</td>\n",
              "      <td>0.036923</td>\n",
              "      <td>0</td>\n",
              "    </tr>\n",
              "    <tr>\n",
              "      <th>1</th>\n",
              "      <td>E14000569</td>\n",
              "      <td>Bishop Auckland</td>\n",
              "      <td>E15000001</td>\n",
              "      <td>North East</td>\n",
              "      <td>K02000001</td>\n",
              "      <td>UK</td>\n",
              "      <td>2020-10-13</td>\n",
              "      <td>2010-05-01</td>\n",
              "      <td>2361</td>\n",
              "      <td>0.042521</td>\n",
              "      <td>80105</td>\n",
              "      <td>0.04769</td>\n",
              "      <td>1502155</td>\n",
              "      <td>0.036923</td>\n",
              "      <td>0</td>\n",
              "    </tr>\n",
              "    <tr>\n",
              "      <th>2</th>\n",
              "      <td>E14000574</td>\n",
              "      <td>Blaydon</td>\n",
              "      <td>E15000001</td>\n",
              "      <td>North East</td>\n",
              "      <td>K02000001</td>\n",
              "      <td>UK</td>\n",
              "      <td>2020-10-13</td>\n",
              "      <td>2010-05-01</td>\n",
              "      <td>1909</td>\n",
              "      <td>0.034575</td>\n",
              "      <td>80105</td>\n",
              "      <td>0.04769</td>\n",
              "      <td>1502155</td>\n",
              "      <td>0.036923</td>\n",
              "      <td>0</td>\n",
              "    </tr>\n",
              "    <tr>\n",
              "      <th>3</th>\n",
              "      <td>E14000575</td>\n",
              "      <td>Blyth Valley</td>\n",
              "      <td>E15000001</td>\n",
              "      <td>North East</td>\n",
              "      <td>K02000001</td>\n",
              "      <td>UK</td>\n",
              "      <td>2020-10-13</td>\n",
              "      <td>2010-05-01</td>\n",
              "      <td>2248</td>\n",
              "      <td>0.042177</td>\n",
              "      <td>80105</td>\n",
              "      <td>0.04769</td>\n",
              "      <td>1502155</td>\n",
              "      <td>0.036923</td>\n",
              "      <td>0</td>\n",
              "    </tr>\n",
              "    <tr>\n",
              "      <th>4</th>\n",
              "      <td>E14000641</td>\n",
              "      <td>City of Durham</td>\n",
              "      <td>E15000001</td>\n",
              "      <td>North East</td>\n",
              "      <td>K02000001</td>\n",
              "      <td>UK</td>\n",
              "      <td>2020-10-13</td>\n",
              "      <td>2010-05-01</td>\n",
              "      <td>1590</td>\n",
              "      <td>0.024718</td>\n",
              "      <td>80105</td>\n",
              "      <td>0.04769</td>\n",
              "      <td>1502155</td>\n",
              "      <td>0.036923</td>\n",
              "      <td>0</td>\n",
              "    </tr>\n",
              "  </tbody>\n",
              "</table>\n",
              "</div>"
            ],
            "text/plain": [
              "  ONSConstID    ConstituencyName  ... UnempCountryRate Unnamed: 14\n",
              "0  E14000554  Berwick-upon-Tweed  ...         0.036923           0\n",
              "1  E14000569     Bishop Auckland  ...         0.036923           0\n",
              "2  E14000574             Blaydon  ...         0.036923           0\n",
              "3  E14000575        Blyth Valley  ...         0.036923           0\n",
              "4  E14000641      City of Durham  ...         0.036923           0\n",
              "\n",
              "[5 rows x 15 columns]"
            ]
          },
          "metadata": {
            "tags": []
          },
          "execution_count": 7
        }
      ]
    },
    {
      "cell_type": "code",
      "metadata": {
        "id": "EVCfb5K0usNj",
        "outputId": "132c1a91-1be7-4521-d835-528b5f2ced13",
        "colab": {
          "base_uri": "https://localhost:8080/",
          "height": 244
        }
      },
      "source": [
        "df_unemp.value_counts(\"DateOfDataset\").sort_index()"
      ],
      "execution_count": 11,
      "outputs": [
        {
          "output_type": "execute_result",
          "data": {
            "text/plain": [
              "DateOfDataset\n",
              "2010-05-01    650\n",
              "2010-06-01    650\n",
              "2010-07-01    650\n",
              "2010-08-01    650\n",
              "2010-09-01    650\n",
              "             ... \n",
              "2020-05-01    650\n",
              "2020-06-01    650\n",
              "2020-07-01    650\n",
              "2020-08-01    650\n",
              "2020-09-01    650\n",
              "Length: 135, dtype: int64"
            ]
          },
          "metadata": {
            "tags": []
          },
          "execution_count": 11
        }
      ]
    },
    {
      "cell_type": "markdown",
      "metadata": {
        "id": "x6FQtNygKb43"
      },
      "source": [
        "## Data wrangling and merge\n",
        "\n",
        "- For this data, what we need to do is relatively simple\n",
        "- The steps are:\n",
        "  - Select the rows for the nearby month (Nov 2019)\n",
        "  - Keep the columns for ID vars and unemployment rate\n",
        "  - Merge with the main dataset"
      ]
    },
    {
      "cell_type": "code",
      "metadata": {
        "id": "y4HXJ2XRjh58",
        "outputId": "097ce798-7d77-4e85-c4f7-1b7855c609ab",
        "colab": {
          "base_uri": "https://localhost:8080/",
          "height": 419
        }
      },
      "source": [
        "df_unemp[df_unemp[\"DateOfDataset\"] == \"2019-11-01\"][[\"ONSConstID\", \"UnempConstRate\"]]"
      ],
      "execution_count": 12,
      "outputs": [
        {
          "output_type": "execute_result",
          "data": {
            "text/html": [
              "<div>\n",
              "<style scoped>\n",
              "    .dataframe tbody tr th:only-of-type {\n",
              "        vertical-align: middle;\n",
              "    }\n",
              "\n",
              "    .dataframe tbody tr th {\n",
              "        vertical-align: top;\n",
              "    }\n",
              "\n",
              "    .dataframe thead th {\n",
              "        text-align: right;\n",
              "    }\n",
              "</style>\n",
              "<table border=\"1\" class=\"dataframe\">\n",
              "  <thead>\n",
              "    <tr style=\"text-align: right;\">\n",
              "      <th></th>\n",
              "      <th>ONSConstID</th>\n",
              "      <th>UnempConstRate</th>\n",
              "    </tr>\n",
              "  </thead>\n",
              "  <tbody>\n",
              "    <tr>\n",
              "      <th>74100</th>\n",
              "      <td>E14000554</td>\n",
              "      <td>0.023341</td>\n",
              "    </tr>\n",
              "    <tr>\n",
              "      <th>74101</th>\n",
              "      <td>E14000569</td>\n",
              "      <td>0.042488</td>\n",
              "    </tr>\n",
              "    <tr>\n",
              "      <th>74102</th>\n",
              "      <td>E14000574</td>\n",
              "      <td>0.033568</td>\n",
              "    </tr>\n",
              "    <tr>\n",
              "      <th>74103</th>\n",
              "      <td>E14000575</td>\n",
              "      <td>0.045496</td>\n",
              "    </tr>\n",
              "    <tr>\n",
              "      <th>74104</th>\n",
              "      <td>E14000641</td>\n",
              "      <td>0.021874</td>\n",
              "    </tr>\n",
              "    <tr>\n",
              "      <th>...</th>\n",
              "      <td>...</td>\n",
              "      <td>...</td>\n",
              "    </tr>\n",
              "    <tr>\n",
              "      <th>74745</th>\n",
              "      <td>N06000014</td>\n",
              "      <td>0.017839</td>\n",
              "    </tr>\n",
              "    <tr>\n",
              "      <th>74746</th>\n",
              "      <td>N06000015</td>\n",
              "      <td>0.020793</td>\n",
              "    </tr>\n",
              "    <tr>\n",
              "      <th>74747</th>\n",
              "      <td>N06000016</td>\n",
              "      <td>0.023917</td>\n",
              "    </tr>\n",
              "    <tr>\n",
              "      <th>74748</th>\n",
              "      <td>N06000017</td>\n",
              "      <td>0.021030</td>\n",
              "    </tr>\n",
              "    <tr>\n",
              "      <th>74749</th>\n",
              "      <td>N06000018</td>\n",
              "      <td>0.028327</td>\n",
              "    </tr>\n",
              "  </tbody>\n",
              "</table>\n",
              "<p>650 rows × 2 columns</p>\n",
              "</div>"
            ],
            "text/plain": [
              "      ONSConstID  UnempConstRate\n",
              "74100  E14000554        0.023341\n",
              "74101  E14000569        0.042488\n",
              "74102  E14000574        0.033568\n",
              "74103  E14000575        0.045496\n",
              "74104  E14000641        0.021874\n",
              "...          ...             ...\n",
              "74745  N06000014        0.017839\n",
              "74746  N06000015        0.020793\n",
              "74747  N06000016        0.023917\n",
              "74748  N06000017        0.021030\n",
              "74749  N06000018        0.028327\n",
              "\n",
              "[650 rows x 2 columns]"
            ]
          },
          "metadata": {
            "tags": []
          },
          "execution_count": 12
        }
      ]
    },
    {
      "cell_type": "code",
      "metadata": {
        "id": "qGAX3WlWv1X2",
        "outputId": "a22fa708-41ec-4cda-b466-818b0b10a12a",
        "colab": {
          "base_uri": "https://localhost:8080/",
          "height": 169
        }
      },
      "source": [
        "df_merge = df_merge.merge(df_unemp_sub, left_on=\"one_id\", right_on=\"ONSConstID\")"
      ],
      "execution_count": 18,
      "outputs": [
        {
          "output_type": "error",
          "ename": "NameError",
          "evalue": "ignored",
          "traceback": [
            "\u001b[0;31m---------------------------------------------------------------------------\u001b[0m",
            "\u001b[0;31mNameError\u001b[0m                                 Traceback (most recent call last)",
            "\u001b[0;32m<ipython-input-18-6f274183b584>\u001b[0m in \u001b[0;36m<module>\u001b[0;34m()\u001b[0m\n\u001b[0;32m----> 1\u001b[0;31m \u001b[0mdf_merge\u001b[0m \u001b[0;34m=\u001b[0m \u001b[0mdf_merge\u001b[0m\u001b[0;34m.\u001b[0m\u001b[0mmerge\u001b[0m\u001b[0;34m(\u001b[0m\u001b[0mdf_unemp_sub\u001b[0m\u001b[0;34m,\u001b[0m \u001b[0mleft_on\u001b[0m\u001b[0;34m=\u001b[0m\u001b[0;34m\"one_id\"\u001b[0m\u001b[0;34m,\u001b[0m \u001b[0mright_on\u001b[0m\u001b[0;34m=\u001b[0m\u001b[0;34m\"ONSConstID\"\u001b[0m\u001b[0;34m)\u001b[0m\u001b[0;34m\u001b[0m\u001b[0;34m\u001b[0m\u001b[0m\n\u001b[0m",
            "\u001b[0;31mNameError\u001b[0m: name 'df_unemp_sub' is not defined"
          ]
        }
      ]
    },
    {
      "cell_type": "markdown",
      "metadata": {
        "id": "nSpLyNT9TBla"
      },
      "source": [
        "# Housing price dataset\n",
        "\n",
        "We conduct essentially the same. Extract the most recent data in housing price, and merge it with the main dataframe."
      ]
    },
    {
      "cell_type": "markdown",
      "metadata": {
        "id": "wfg08XwOTYb4"
      },
      "source": [
        "## Read the file"
      ]
    },
    {
      "cell_type": "code",
      "metadata": {
        "id": "W36zKvQgTbMB"
      },
      "source": [
        "df_housing = pd.read_excel(\"/content/GV918-UK-politics-data/Data/House-prices.xlsx\", \n",
        "                           sheet_name=\"Constituency data table\")"
      ],
      "execution_count": 16,
      "outputs": []
    },
    {
      "cell_type": "markdown",
      "metadata": {
        "id": "KpWv8FScVPbx"
      },
      "source": [
        "## Data wrangling and merge\n",
        "\n",
        "- First let's findout the data frequency. "
      ]
    },
    {
      "cell_type": "code",
      "metadata": {
        "id": "41xA-VIHjlJS"
      },
      "source": [
        ""
      ],
      "execution_count": null,
      "outputs": []
    },
    {
      "cell_type": "markdown",
      "metadata": {
        "id": "nb1efv5UVYKz"
      },
      "source": [
        "- Select the rows from Sep 2019\n",
        "- We use the price change at the constituency level"
      ]
    },
    {
      "cell_type": "code",
      "metadata": {
        "id": "oYIzM31SjmmO"
      },
      "source": [
        ""
      ],
      "execution_count": null,
      "outputs": []
    },
    {
      "cell_type": "markdown",
      "metadata": {
        "id": "D-UXMFmwIxR7"
      },
      "source": [
        "## Population dataset\n",
        "\n",
        "What we would like to extract from this dataset is the percentage of elderly (over 65). We need to do some data wrangling."
      ]
    },
    {
      "cell_type": "markdown",
      "metadata": {
        "id": "AQHXEryUKIC8"
      },
      "source": [
        "## Read the dataset"
      ]
    },
    {
      "cell_type": "code",
      "metadata": {
        "id": "_Fr_FcprIwt_"
      },
      "source": [
        "df_pop = pd.read_excel(\"/content/GV918-UK-politics-data/Data/population-by-age.xlsx\", \n",
        "                       sheet_name = 'Age by year data')"
      ],
      "execution_count": 23,
      "outputs": []
    },
    {
      "cell_type": "code",
      "metadata": {
        "id": "-59aqMGmxiBW",
        "outputId": "25562a20-0b5a-42d0-c226-bc0f0ea6897f",
        "colab": {
          "base_uri": "https://localhost:8080/",
          "height": 204
        }
      },
      "source": [
        "df_pop.head()"
      ],
      "execution_count": 24,
      "outputs": [
        {
          "output_type": "execute_result",
          "data": {
            "text/html": [
              "<div>\n",
              "<style scoped>\n",
              "    .dataframe tbody tr th:only-of-type {\n",
              "        vertical-align: middle;\n",
              "    }\n",
              "\n",
              "    .dataframe tbody tr th {\n",
              "        vertical-align: top;\n",
              "    }\n",
              "\n",
              "    .dataframe thead th {\n",
              "        text-align: right;\n",
              "    }\n",
              "</style>\n",
              "<table border=\"1\" class=\"dataframe\">\n",
              "  <thead>\n",
              "    <tr style=\"text-align: right;\">\n",
              "      <th></th>\n",
              "      <th>PCON11CD</th>\n",
              "      <th>PCON11NM</th>\n",
              "      <th>RegionID</th>\n",
              "      <th>RegionNM</th>\n",
              "      <th>All Ages</th>\n",
              "      <th>Age_year</th>\n",
              "      <th>Age_pop</th>\n",
              "      <th>Age_percent</th>\n",
              "      <th>Reg_percent</th>\n",
              "      <th>UK_percent</th>\n",
              "    </tr>\n",
              "  </thead>\n",
              "  <tbody>\n",
              "    <tr>\n",
              "      <th>0</th>\n",
              "      <td>E14000538</td>\n",
              "      <td>Aylesbury</td>\n",
              "      <td>E12000008</td>\n",
              "      <td>South East</td>\n",
              "      <td>125629</td>\n",
              "      <td>0</td>\n",
              "      <td>1601</td>\n",
              "      <td>0.012744</td>\n",
              "      <td>0.010438</td>\n",
              "      <td>0.010822</td>\n",
              "    </tr>\n",
              "    <tr>\n",
              "      <th>1</th>\n",
              "      <td>E14000538</td>\n",
              "      <td>Aylesbury</td>\n",
              "      <td>E12000008</td>\n",
              "      <td>South East</td>\n",
              "      <td>125629</td>\n",
              "      <td>1</td>\n",
              "      <td>1664</td>\n",
              "      <td>0.013245</td>\n",
              "      <td>0.010968</td>\n",
              "      <td>0.011266</td>\n",
              "    </tr>\n",
              "    <tr>\n",
              "      <th>2</th>\n",
              "      <td>E14000538</td>\n",
              "      <td>Aylesbury</td>\n",
              "      <td>E12000008</td>\n",
              "      <td>South East</td>\n",
              "      <td>125629</td>\n",
              "      <td>2</td>\n",
              "      <td>1772</td>\n",
              "      <td>0.014105</td>\n",
              "      <td>0.011386</td>\n",
              "      <td>0.011637</td>\n",
              "    </tr>\n",
              "    <tr>\n",
              "      <th>3</th>\n",
              "      <td>E14000538</td>\n",
              "      <td>Aylesbury</td>\n",
              "      <td>E12000008</td>\n",
              "      <td>South East</td>\n",
              "      <td>125629</td>\n",
              "      <td>3</td>\n",
              "      <td>1775</td>\n",
              "      <td>0.014129</td>\n",
              "      <td>0.011892</td>\n",
              "      <td>0.012012</td>\n",
              "    </tr>\n",
              "    <tr>\n",
              "      <th>4</th>\n",
              "      <td>E14000538</td>\n",
              "      <td>Aylesbury</td>\n",
              "      <td>E12000008</td>\n",
              "      <td>South East</td>\n",
              "      <td>125629</td>\n",
              "      <td>4</td>\n",
              "      <td>1793</td>\n",
              "      <td>0.014272</td>\n",
              "      <td>0.012033</td>\n",
              "      <td>0.012009</td>\n",
              "    </tr>\n",
              "  </tbody>\n",
              "</table>\n",
              "</div>"
            ],
            "text/plain": [
              "    PCON11CD   PCON11NM   RegionID  ... Age_percent  Reg_percent  UK_percent\n",
              "0  E14000538  Aylesbury  E12000008  ...    0.012744     0.010438    0.010822\n",
              "1  E14000538  Aylesbury  E12000008  ...    0.013245     0.010968    0.011266\n",
              "2  E14000538  Aylesbury  E12000008  ...    0.014105     0.011386    0.011637\n",
              "3  E14000538  Aylesbury  E12000008  ...    0.014129     0.011892    0.012012\n",
              "4  E14000538  Aylesbury  E12000008  ...    0.014272     0.012033    0.012009\n",
              "\n",
              "[5 rows x 10 columns]"
            ]
          },
          "metadata": {
            "tags": []
          },
          "execution_count": 24
        }
      ]
    },
    {
      "cell_type": "markdown",
      "metadata": {
        "id": "AlF7Wwe8KLWQ"
      },
      "source": [
        "## Data wrangling"
      ]
    },
    {
      "cell_type": "markdown",
      "metadata": {
        "id": "bbHvSAXHJU4h"
      },
      "source": [
        "- This data has so many rows, but suppose that what we want to know is the population over the age of 65.\n",
        "\n",
        "- We will clean the data using the following steps\n",
        "  - Keep rows of year over 65\n",
        "  - Aggregate the percentage of the population\n"
      ]
    },
    {
      "cell_type": "code",
      "metadata": {
        "id": "SedS-4IIjowB"
      },
      "source": [
        "df_pop_sub = df_pop[df_pop[\"Age_year\"] >= 65]"
      ],
      "execution_count": 26,
      "outputs": []
    },
    {
      "cell_type": "code",
      "metadata": {
        "id": "MH-inNeRxxEY",
        "outputId": "24003044-20d3-4e14-aa89-32d2c4d6b011",
        "colab": {
          "base_uri": "https://localhost:8080/",
          "height": 316
        }
      },
      "source": [
        "df_pop_sub[[\"PCO11CD\", \"Age_year\", \"Age_percent\"]]"
      ],
      "execution_count": 30,
      "outputs": [
        {
          "output_type": "error",
          "ename": "KeyError",
          "evalue": "ignored",
          "traceback": [
            "\u001b[0;31m---------------------------------------------------------------------------\u001b[0m",
            "\u001b[0;31mKeyError\u001b[0m                                  Traceback (most recent call last)",
            "\u001b[0;32m<ipython-input-30-4afec61f9970>\u001b[0m in \u001b[0;36m<module>\u001b[0;34m()\u001b[0m\n\u001b[0;32m----> 1\u001b[0;31m \u001b[0mdf_pop_sub\u001b[0m\u001b[0;34m[\u001b[0m\u001b[0;34m[\u001b[0m\u001b[0;34m\"PC011CD\"\u001b[0m\u001b[0;34m,\u001b[0m \u001b[0;34m\"Age_year\"\u001b[0m\u001b[0;34m,\u001b[0m \u001b[0;34m\"Age_percent\"\u001b[0m\u001b[0;34m]\u001b[0m\u001b[0;34m]\u001b[0m\u001b[0;34m\u001b[0m\u001b[0;34m\u001b[0m\u001b[0m\n\u001b[0m",
            "\u001b[0;32m/usr/local/lib/python3.6/dist-packages/pandas/core/frame.py\u001b[0m in \u001b[0;36m__getitem__\u001b[0;34m(self, key)\u001b[0m\n\u001b[1;32m   2906\u001b[0m             \u001b[0;32mif\u001b[0m \u001b[0mis_iterator\u001b[0m\u001b[0;34m(\u001b[0m\u001b[0mkey\u001b[0m\u001b[0;34m)\u001b[0m\u001b[0;34m:\u001b[0m\u001b[0;34m\u001b[0m\u001b[0;34m\u001b[0m\u001b[0m\n\u001b[1;32m   2907\u001b[0m                 \u001b[0mkey\u001b[0m \u001b[0;34m=\u001b[0m \u001b[0mlist\u001b[0m\u001b[0;34m(\u001b[0m\u001b[0mkey\u001b[0m\u001b[0;34m)\u001b[0m\u001b[0;34m\u001b[0m\u001b[0;34m\u001b[0m\u001b[0m\n\u001b[0;32m-> 2908\u001b[0;31m             \u001b[0mindexer\u001b[0m \u001b[0;34m=\u001b[0m \u001b[0mself\u001b[0m\u001b[0;34m.\u001b[0m\u001b[0mloc\u001b[0m\u001b[0;34m.\u001b[0m\u001b[0m_get_listlike_indexer\u001b[0m\u001b[0;34m(\u001b[0m\u001b[0mkey\u001b[0m\u001b[0;34m,\u001b[0m \u001b[0maxis\u001b[0m\u001b[0;34m=\u001b[0m\u001b[0;36m1\u001b[0m\u001b[0;34m,\u001b[0m \u001b[0mraise_missing\u001b[0m\u001b[0;34m=\u001b[0m\u001b[0;32mTrue\u001b[0m\u001b[0;34m)\u001b[0m\u001b[0;34m[\u001b[0m\u001b[0;36m1\u001b[0m\u001b[0;34m]\u001b[0m\u001b[0;34m\u001b[0m\u001b[0;34m\u001b[0m\u001b[0m\n\u001b[0m\u001b[1;32m   2909\u001b[0m \u001b[0;34m\u001b[0m\u001b[0m\n\u001b[1;32m   2910\u001b[0m         \u001b[0;31m# take() does not accept boolean indexers\u001b[0m\u001b[0;34m\u001b[0m\u001b[0;34m\u001b[0m\u001b[0;34m\u001b[0m\u001b[0m\n",
            "\u001b[0;32m/usr/local/lib/python3.6/dist-packages/pandas/core/indexing.py\u001b[0m in \u001b[0;36m_get_listlike_indexer\u001b[0;34m(self, key, axis, raise_missing)\u001b[0m\n\u001b[1;32m   1252\u001b[0m             \u001b[0mkeyarr\u001b[0m\u001b[0;34m,\u001b[0m \u001b[0mindexer\u001b[0m\u001b[0;34m,\u001b[0m \u001b[0mnew_indexer\u001b[0m \u001b[0;34m=\u001b[0m \u001b[0max\u001b[0m\u001b[0;34m.\u001b[0m\u001b[0m_reindex_non_unique\u001b[0m\u001b[0;34m(\u001b[0m\u001b[0mkeyarr\u001b[0m\u001b[0;34m)\u001b[0m\u001b[0;34m\u001b[0m\u001b[0;34m\u001b[0m\u001b[0m\n\u001b[1;32m   1253\u001b[0m \u001b[0;34m\u001b[0m\u001b[0m\n\u001b[0;32m-> 1254\u001b[0;31m         \u001b[0mself\u001b[0m\u001b[0;34m.\u001b[0m\u001b[0m_validate_read_indexer\u001b[0m\u001b[0;34m(\u001b[0m\u001b[0mkeyarr\u001b[0m\u001b[0;34m,\u001b[0m \u001b[0mindexer\u001b[0m\u001b[0;34m,\u001b[0m \u001b[0maxis\u001b[0m\u001b[0;34m,\u001b[0m \u001b[0mraise_missing\u001b[0m\u001b[0;34m=\u001b[0m\u001b[0mraise_missing\u001b[0m\u001b[0;34m)\u001b[0m\u001b[0;34m\u001b[0m\u001b[0;34m\u001b[0m\u001b[0m\n\u001b[0m\u001b[1;32m   1255\u001b[0m         \u001b[0;32mreturn\u001b[0m \u001b[0mkeyarr\u001b[0m\u001b[0;34m,\u001b[0m \u001b[0mindexer\u001b[0m\u001b[0;34m\u001b[0m\u001b[0;34m\u001b[0m\u001b[0m\n\u001b[1;32m   1256\u001b[0m \u001b[0;34m\u001b[0m\u001b[0m\n",
            "\u001b[0;32m/usr/local/lib/python3.6/dist-packages/pandas/core/indexing.py\u001b[0m in \u001b[0;36m_validate_read_indexer\u001b[0;34m(self, key, indexer, axis, raise_missing)\u001b[0m\n\u001b[1;32m   1302\u001b[0m             \u001b[0;32mif\u001b[0m \u001b[0mraise_missing\u001b[0m\u001b[0;34m:\u001b[0m\u001b[0;34m\u001b[0m\u001b[0;34m\u001b[0m\u001b[0m\n\u001b[1;32m   1303\u001b[0m                 \u001b[0mnot_found\u001b[0m \u001b[0;34m=\u001b[0m \u001b[0mlist\u001b[0m\u001b[0;34m(\u001b[0m\u001b[0mset\u001b[0m\u001b[0;34m(\u001b[0m\u001b[0mkey\u001b[0m\u001b[0;34m)\u001b[0m \u001b[0;34m-\u001b[0m \u001b[0mset\u001b[0m\u001b[0;34m(\u001b[0m\u001b[0max\u001b[0m\u001b[0;34m)\u001b[0m\u001b[0;34m)\u001b[0m\u001b[0;34m\u001b[0m\u001b[0;34m\u001b[0m\u001b[0m\n\u001b[0;32m-> 1304\u001b[0;31m                 \u001b[0;32mraise\u001b[0m \u001b[0mKeyError\u001b[0m\u001b[0;34m(\u001b[0m\u001b[0;34mf\"{not_found} not in index\"\u001b[0m\u001b[0;34m)\u001b[0m\u001b[0;34m\u001b[0m\u001b[0;34m\u001b[0m\u001b[0m\n\u001b[0m\u001b[1;32m   1305\u001b[0m \u001b[0;34m\u001b[0m\u001b[0m\n\u001b[1;32m   1306\u001b[0m             \u001b[0;31m# we skip the warning on Categorical\u001b[0m\u001b[0;34m\u001b[0m\u001b[0;34m\u001b[0m\u001b[0;34m\u001b[0m\u001b[0m\n",
            "\u001b[0;31mKeyError\u001b[0m: \"['PC011CD'] not in index\""
          ]
        }
      ]
    },
    {
      "cell_type": "markdown",
      "metadata": {
        "id": "HTd29RHSKNYu"
      },
      "source": [
        "## Merge with the main dataset"
      ]
    },
    {
      "cell_type": "code",
      "metadata": {
        "id": "KGZt7u6yjqEa"
      },
      "source": [
        ""
      ],
      "execution_count": null,
      "outputs": []
    },
    {
      "cell_type": "markdown",
      "metadata": {
        "id": "y6Z8U5A7LRL1"
      },
      "source": [
        "# Check correlation\n",
        "\n",
        "- Let's check the correlation between `con_pct`, `lab_pct`, `leave_pct` and merged variables"
      ]
    },
    {
      "cell_type": "code",
      "metadata": {
        "id": "spYY-D_SjrGX"
      },
      "source": [
        ""
      ],
      "execution_count": null,
      "outputs": []
    }
  ]
}